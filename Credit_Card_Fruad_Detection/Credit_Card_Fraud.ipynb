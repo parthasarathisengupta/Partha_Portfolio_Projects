{
 "cells": [
  {
   "cell_type": "code",
   "execution_count": 1,
   "id": "b506c2cd",
   "metadata": {},
   "outputs": [],
   "source": [
    "##Import Libraries\n",
    "import pandas as pd\n",
    "import numpy as np\n",
    "from matplotlib import pyplot as plt\n",
    "\n",
    "from sklearn.model_selection import train_test_split\n",
    "from sklearn.preprocessing import StandardScaler\n",
    "from sklearn.model_selection import GridSearchCV\n",
    "from sklearn.metrics import f1_score, precision_score, recall_score, accuracy_score, mean_squared_error\n",
    "from sklearn.metrics import confusion_matrix, ConfusionMatrixDisplay\n",
    "from sklearn.neighbors import KNeighborsClassifier, KNeighborsRegressor"
   ]
  },
  {
   "cell_type": "code",
   "execution_count": 2,
   "id": "3014fe36",
   "metadata": {},
   "outputs": [],
   "source": [
    "##Filter warnings\n",
    "import warnings \n",
    "warnings.filterwarnings('ignore')"
   ]
  },
  {
   "cell_type": "code",
   "execution_count": 3,
   "id": "ac34c75a",
   "metadata": {},
   "outputs": [
    {
     "data": {
      "text/html": [
       "<div>\n",
       "<style scoped>\n",
       "    .dataframe tbody tr th:only-of-type {\n",
       "        vertical-align: middle;\n",
       "    }\n",
       "\n",
       "    .dataframe tbody tr th {\n",
       "        vertical-align: top;\n",
       "    }\n",
       "\n",
       "    .dataframe thead th {\n",
       "        text-align: right;\n",
       "    }\n",
       "</style>\n",
       "<table border=\"1\" class=\"dataframe\">\n",
       "  <thead>\n",
       "    <tr style=\"text-align: right;\">\n",
       "      <th></th>\n",
       "      <th>amt</th>\n",
       "      <th>trans_hour</th>\n",
       "      <th>category_food_dining</th>\n",
       "      <th>category_gas_transport</th>\n",
       "      <th>category_grocery_net</th>\n",
       "      <th>category_grocery_pos</th>\n",
       "      <th>category_health_fitness</th>\n",
       "      <th>category_home</th>\n",
       "      <th>category_kids_pets</th>\n",
       "      <th>category_misc_net</th>\n",
       "      <th>...</th>\n",
       "      <th>day_Saturday</th>\n",
       "      <th>day_Sunday</th>\n",
       "      <th>day_Thursday</th>\n",
       "      <th>day_Tuesday</th>\n",
       "      <th>day_Wednesday</th>\n",
       "      <th>age_46-60</th>\n",
       "      <th>age_61-75</th>\n",
       "      <th>age_&lt; 30</th>\n",
       "      <th>age_&gt; 75</th>\n",
       "      <th>is_fraud</th>\n",
       "    </tr>\n",
       "  </thead>\n",
       "  <tbody>\n",
       "    <tr>\n",
       "      <th>0</th>\n",
       "      <td>134.62</td>\n",
       "      <td>23</td>\n",
       "      <td>1</td>\n",
       "      <td>0</td>\n",
       "      <td>0</td>\n",
       "      <td>0</td>\n",
       "      <td>0</td>\n",
       "      <td>0</td>\n",
       "      <td>0</td>\n",
       "      <td>0</td>\n",
       "      <td>...</td>\n",
       "      <td>0</td>\n",
       "      <td>0</td>\n",
       "      <td>0</td>\n",
       "      <td>0</td>\n",
       "      <td>0</td>\n",
       "      <td>0</td>\n",
       "      <td>0</td>\n",
       "      <td>1</td>\n",
       "      <td>0</td>\n",
       "      <td>1</td>\n",
       "    </tr>\n",
       "    <tr>\n",
       "      <th>1</th>\n",
       "      <td>109.95</td>\n",
       "      <td>5</td>\n",
       "      <td>1</td>\n",
       "      <td>0</td>\n",
       "      <td>0</td>\n",
       "      <td>0</td>\n",
       "      <td>0</td>\n",
       "      <td>0</td>\n",
       "      <td>0</td>\n",
       "      <td>0</td>\n",
       "      <td>...</td>\n",
       "      <td>0</td>\n",
       "      <td>0</td>\n",
       "      <td>0</td>\n",
       "      <td>1</td>\n",
       "      <td>0</td>\n",
       "      <td>1</td>\n",
       "      <td>0</td>\n",
       "      <td>0</td>\n",
       "      <td>0</td>\n",
       "      <td>0</td>\n",
       "    </tr>\n",
       "    <tr>\n",
       "      <th>2</th>\n",
       "      <td>20.17</td>\n",
       "      <td>0</td>\n",
       "      <td>0</td>\n",
       "      <td>1</td>\n",
       "      <td>0</td>\n",
       "      <td>0</td>\n",
       "      <td>0</td>\n",
       "      <td>0</td>\n",
       "      <td>0</td>\n",
       "      <td>0</td>\n",
       "      <td>...</td>\n",
       "      <td>0</td>\n",
       "      <td>0</td>\n",
       "      <td>0</td>\n",
       "      <td>0</td>\n",
       "      <td>1</td>\n",
       "      <td>1</td>\n",
       "      <td>0</td>\n",
       "      <td>0</td>\n",
       "      <td>0</td>\n",
       "      <td>1</td>\n",
       "    </tr>\n",
       "    <tr>\n",
       "      <th>3</th>\n",
       "      <td>839.06</td>\n",
       "      <td>22</td>\n",
       "      <td>0</td>\n",
       "      <td>0</td>\n",
       "      <td>0</td>\n",
       "      <td>0</td>\n",
       "      <td>0</td>\n",
       "      <td>0</td>\n",
       "      <td>0</td>\n",
       "      <td>0</td>\n",
       "      <td>...</td>\n",
       "      <td>1</td>\n",
       "      <td>0</td>\n",
       "      <td>0</td>\n",
       "      <td>0</td>\n",
       "      <td>0</td>\n",
       "      <td>1</td>\n",
       "      <td>0</td>\n",
       "      <td>0</td>\n",
       "      <td>0</td>\n",
       "      <td>1</td>\n",
       "    </tr>\n",
       "    <tr>\n",
       "      <th>4</th>\n",
       "      <td>4.33</td>\n",
       "      <td>10</td>\n",
       "      <td>0</td>\n",
       "      <td>0</td>\n",
       "      <td>0</td>\n",
       "      <td>0</td>\n",
       "      <td>0</td>\n",
       "      <td>0</td>\n",
       "      <td>0</td>\n",
       "      <td>0</td>\n",
       "      <td>...</td>\n",
       "      <td>0</td>\n",
       "      <td>0</td>\n",
       "      <td>0</td>\n",
       "      <td>1</td>\n",
       "      <td>0</td>\n",
       "      <td>0</td>\n",
       "      <td>1</td>\n",
       "      <td>0</td>\n",
       "      <td>0</td>\n",
       "      <td>0</td>\n",
       "    </tr>\n",
       "  </tbody>\n",
       "</table>\n",
       "<p>5 rows × 27 columns</p>\n",
       "</div>"
      ],
      "text/plain": [
       "      amt  trans_hour  category_food_dining  category_gas_transport  \\\n",
       "0  134.62          23                     1                       0   \n",
       "1  109.95           5                     1                       0   \n",
       "2   20.17           0                     0                       1   \n",
       "3  839.06          22                     0                       0   \n",
       "4    4.33          10                     0                       0   \n",
       "\n",
       "   category_grocery_net  category_grocery_pos  category_health_fitness  \\\n",
       "0                     0                     0                        0   \n",
       "1                     0                     0                        0   \n",
       "2                     0                     0                        0   \n",
       "3                     0                     0                        0   \n",
       "4                     0                     0                        0   \n",
       "\n",
       "   category_home  category_kids_pets  category_misc_net  ...  day_Saturday  \\\n",
       "0              0                   0                  0  ...             0   \n",
       "1              0                   0                  0  ...             0   \n",
       "2              0                   0                  0  ...             0   \n",
       "3              0                   0                  0  ...             1   \n",
       "4              0                   0                  0  ...             0   \n",
       "\n",
       "   day_Sunday  day_Thursday  day_Tuesday  day_Wednesday  age_46-60  age_61-75  \\\n",
       "0           0             0            0              0          0          0   \n",
       "1           0             0            1              0          1          0   \n",
       "2           0             0            0              1          1          0   \n",
       "3           0             0            0              0          1          0   \n",
       "4           0             0            1              0          0          1   \n",
       "\n",
       "   age_< 30  age_> 75  is_fraud  \n",
       "0         1         0         1  \n",
       "1         0         0         0  \n",
       "2         0         0         1  \n",
       "3         0         0         1  \n",
       "4         0         0         0  \n",
       "\n",
       "[5 rows x 27 columns]"
      ]
     },
     "execution_count": 3,
     "metadata": {},
     "output_type": "execute_result"
    }
   ],
   "source": [
    "##Load the dataset and check the top 5 rows\n",
    "fraud_df = pd.read_csv(\"fraud_detection_data_final.csv\")\n",
    "fraud_df.head()"
   ]
  },
  {
   "cell_type": "code",
   "execution_count": 4,
   "id": "89a0f575",
   "metadata": {},
   "outputs": [
    {
     "name": "stdout",
     "output_type": "stream",
     "text": [
      "<class 'pandas.core.frame.DataFrame'>\n",
      "RangeIndex: 4729 entries, 0 to 4728\n",
      "Data columns (total 27 columns):\n",
      " #   Column                   Non-Null Count  Dtype  \n",
      "---  ------                   --------------  -----  \n",
      " 0   amt                      4729 non-null   float64\n",
      " 1   trans_hour               4729 non-null   int64  \n",
      " 2   category_food_dining     4729 non-null   int64  \n",
      " 3   category_gas_transport   4729 non-null   int64  \n",
      " 4   category_grocery_net     4729 non-null   int64  \n",
      " 5   category_grocery_pos     4729 non-null   int64  \n",
      " 6   category_health_fitness  4729 non-null   int64  \n",
      " 7   category_home            4729 non-null   int64  \n",
      " 8   category_kids_pets       4729 non-null   int64  \n",
      " 9   category_misc_net        4729 non-null   int64  \n",
      " 10  category_misc_pos        4729 non-null   int64  \n",
      " 11  category_personal_care   4729 non-null   int64  \n",
      " 12  category_shopping_net    4729 non-null   int64  \n",
      " 13  category_shopping_pos    4729 non-null   int64  \n",
      " 14  category_travel          4729 non-null   int64  \n",
      " 15  gender_M                 4729 non-null   int64  \n",
      " 16  day_Monday               4729 non-null   int64  \n",
      " 17  day_Saturday             4729 non-null   int64  \n",
      " 18  day_Sunday               4729 non-null   int64  \n",
      " 19  day_Thursday             4729 non-null   int64  \n",
      " 20  day_Tuesday              4729 non-null   int64  \n",
      " 21  day_Wednesday            4729 non-null   int64  \n",
      " 22  age_46-60                4729 non-null   int64  \n",
      " 23  age_61-75                4729 non-null   int64  \n",
      " 24  age_< 30                 4729 non-null   int64  \n",
      " 25  age_> 75                 4729 non-null   int64  \n",
      " 26  is_fraud                 4729 non-null   int64  \n",
      "dtypes: float64(1), int64(26)\n",
      "memory usage: 997.6 KB\n"
     ]
    }
   ],
   "source": [
    "#Check the datatypes of the columns\n",
    "fraud_df.info()"
   ]
  },
  {
   "cell_type": "markdown",
   "id": "64e42646",
   "metadata": {},
   "source": [
    "### Q1. Numerical Attributes to Categorical Attributes"
   ]
  },
  {
   "cell_type": "markdown",
   "id": "762a77e9",
   "metadata": {},
   "source": [
    "You will notice that there are 27 columns in the dataset.\n",
    "\n",
    "Many of the categorical columns have been incorrectly stored as numerical attributes. Which of the following is the correct code to convert them to categorical attributes?\n",
    "\n",
    " **Hint** : Only `amt` and `trans_hour` have to be kept as numerical"
   ]
  },
  {
   "cell_type": "code",
   "execution_count": 5,
   "id": "03c920d3",
   "metadata": {},
   "outputs": [],
   "source": [
    "## Write your code here\n",
    "non_categorical_columns = ['amt','trans_hour']\n",
    "for column in fraud_df.columns:\n",
    "    if column not in non_categorical_columns:\n",
    "        fraud_df[column] = pd.Categorical(fraud_df[column])"
   ]
  },
  {
   "cell_type": "code",
   "execution_count": 6,
   "id": "3a9f8d71",
   "metadata": {},
   "outputs": [
    {
     "name": "stdout",
     "output_type": "stream",
     "text": [
      "<class 'pandas.core.frame.DataFrame'>\n",
      "RangeIndex: 4729 entries, 0 to 4728\n",
      "Data columns (total 27 columns):\n",
      " #   Column                   Non-Null Count  Dtype   \n",
      "---  ------                   --------------  -----   \n",
      " 0   amt                      4729 non-null   float64 \n",
      " 1   trans_hour               4729 non-null   int64   \n",
      " 2   category_food_dining     4729 non-null   category\n",
      " 3   category_gas_transport   4729 non-null   category\n",
      " 4   category_grocery_net     4729 non-null   category\n",
      " 5   category_grocery_pos     4729 non-null   category\n",
      " 6   category_health_fitness  4729 non-null   category\n",
      " 7   category_home            4729 non-null   category\n",
      " 8   category_kids_pets       4729 non-null   category\n",
      " 9   category_misc_net        4729 non-null   category\n",
      " 10  category_misc_pos        4729 non-null   category\n",
      " 11  category_personal_care   4729 non-null   category\n",
      " 12  category_shopping_net    4729 non-null   category\n",
      " 13  category_shopping_pos    4729 non-null   category\n",
      " 14  category_travel          4729 non-null   category\n",
      " 15  gender_M                 4729 non-null   category\n",
      " 16  day_Monday               4729 non-null   category\n",
      " 17  day_Saturday             4729 non-null   category\n",
      " 18  day_Sunday               4729 non-null   category\n",
      " 19  day_Thursday             4729 non-null   category\n",
      " 20  day_Tuesday              4729 non-null   category\n",
      " 21  day_Wednesday            4729 non-null   category\n",
      " 22  age_46-60                4729 non-null   category\n",
      " 23  age_61-75                4729 non-null   category\n",
      " 24  age_< 30                 4729 non-null   category\n",
      " 25  age_> 75                 4729 non-null   category\n",
      " 26  is_fraud                 4729 non-null   category\n",
      "dtypes: category(25), float64(1), int64(1)\n",
      "memory usage: 192.5 KB\n"
     ]
    }
   ],
   "source": [
    "##Check the datatypes again to confirm if the conversion has happened correctly\n",
    "fraud_df.info()"
   ]
  },
  {
   "cell_type": "markdown",
   "id": "7eb31270",
   "metadata": {},
   "source": [
    "### Q2. Train-Test Split and the value of K"
   ]
  },
  {
   "cell_type": "markdown",
   "id": "e282002b",
   "metadata": {},
   "source": [
    "Peform a train-test split using test_size = 0.3 and random_state = 100.  What is the optimal value of k, the number of nearest neighbors, obtained based on accuracy using the cross-validation approach?\n",
    "\n",
    "Note: For this exercise, you don't have to scale the numerical data"
   ]
  },
  {
   "cell_type": "code",
   "execution_count": 7,
   "id": "18a5a666",
   "metadata": {},
   "outputs": [],
   "source": [
    "##Separate your X and y\n",
    "y = fraud_df['is_fraud']\n",
    "X = fraud_df.iloc[:, :-1]"
   ]
  },
  {
   "cell_type": "code",
   "execution_count": 8,
   "id": "aa01dd49",
   "metadata": {},
   "outputs": [],
   "source": [
    "#Perform the train test split\n",
    "X_train, X_val, y_train, y_val = train_test_split(X, y, test_size=0.3, random_state = 100) ##Write your code here"
   ]
  },
  {
   "cell_type": "code",
   "execution_count": 11,
   "id": "fa496f55",
   "metadata": {},
   "outputs": [],
   "source": [
    "##Scale the numerical data\n",
    "scaler = StandardScaler()\n",
    "X_train[['amt','trans_hour']]= scaler.fit_transform(X_train[['amt','trans_hour']])\n",
    "X_val[['amt','trans_hour']]= scaler.transform(X_val[['amt','trans_hour']])"
   ]
  },
  {
   "cell_type": "code",
   "execution_count": 12,
   "id": "f03c68c8",
   "metadata": {
    "scrolled": true
   },
   "outputs": [
    {
     "name": "stdout",
     "output_type": "stream",
     "text": [
      "Fitting 5 folds for each of 30 candidates, totalling 150 fits\n"
     ]
    },
    {
     "data": {
      "text/plain": [
       "{'n_neighbors': 14}"
      ]
     },
     "execution_count": 12,
     "metadata": {},
     "output_type": "execute_result"
    }
   ],
   "source": [
    "###Identify the best value of k using the cross-validation approach\n",
    "knn_clf = KNeighborsClassifier()\n",
    "param_grid = {'n_neighbors': np.arange(1,31)} # Parameter range\n",
    "\n",
    "##Write your code here\n",
    "# defining parameter range\n",
    "grid = GridSearchCV(knn_clf, param_grid, cv=5, scoring='accuracy', return_train_score=True, verbose=1)\n",
    "grid_search = grid.fit(X_train, y_train)\n",
    "\n",
    "grid_search.best_params_"
   ]
  },
  {
   "cell_type": "markdown",
   "id": "cba5fe63",
   "metadata": {},
   "source": [
    "### Q3. Validation Accuracy\n",
    "\n",
    "What is the accuracy obtained for the validation set using the optimal k obtained from the previous questions?"
   ]
  },
  {
   "cell_type": "code",
   "execution_count": 14,
   "id": "9162eabb",
   "metadata": {},
   "outputs": [],
   "source": [
    "##Write your code for computing the validation accuracy\n",
    "knn_clf_best = KNeighborsClassifier(n_neighbors=grid_search.best_params_['n_neighbors'])\n",
    "knn_clf_best.fit(X_train, y_train)\n",
    "y_pred = knn_clf_best.predict(X_val)"
   ]
  },
  {
   "cell_type": "code",
   "execution_count": 15,
   "id": "b96c0f31",
   "metadata": {},
   "outputs": [
    {
     "name": "stdout",
     "output_type": "stream",
     "text": [
      "Validation data Accuracy Score: 0.8675\n"
     ]
    }
   ],
   "source": [
    "print('Validation data Accuracy Score: %.4f' % accuracy_score(y_val, y_pred))"
   ]
  }
 ],
 "metadata": {
  "kernelspec": {
   "display_name": "Python 3 (ipykernel)",
   "language": "python",
   "name": "python3"
  },
  "language_info": {
   "codemirror_mode": {
    "name": "ipython",
    "version": 3
   },
   "file_extension": ".py",
   "mimetype": "text/x-python",
   "name": "python",
   "nbconvert_exporter": "python",
   "pygments_lexer": "ipython3",
   "version": "3.9.7"
  }
 },
 "nbformat": 4,
 "nbformat_minor": 5
}
