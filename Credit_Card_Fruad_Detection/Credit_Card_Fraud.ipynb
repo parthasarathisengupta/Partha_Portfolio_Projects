{
 "cells": [
  {
   "cell_type": "code",
   "execution_count": null,
   "id": "b506c2cd",
   "metadata": {},
   "outputs": [],
   "source": [
    "##Import Libraries\n",
    "import pandas as pd\n",
    "import numpy as np\n",
    "from matplotlib import pyplot as plt\n",
    "\n",
    "from sklearn.model_selection import train_test_split\n",
    "from sklearn.preprocessing import StandardScaler\n",
    "from sklearn.model_selection import GridSearchCV\n",
    "from sklearn.metrics import f1_score, precision_score, recall_score, accuracy_score, mean_squared_error\n",
    "from sklearn.metrics import confusion_matrix, ConfusionMatrixDisplay\n",
    "from sklearn.neighbors import KNeighborsClassifier, KNeighborsRegressor"
   ]
  },
  {
   "cell_type": "code",
   "execution_count": null,
   "id": "3014fe36",
   "metadata": {},
   "outputs": [],
   "source": [
    "##Filter warnings\n",
    "import warnings \n",
    "warnings.filterwarnings('ignore')"
   ]
  },
  {
   "cell_type": "code",
   "execution_count": null,
   "id": "ac34c75a",
   "metadata": {},
   "outputs": [],
   "source": [
    "##Load the dataset and check the top 5 rows\n",
    "fraud_df = pd.read_csv(\"fraud_detection_data_final.csv\")\n",
    "fraud_df.head()"
   ]
  },
  {
   "cell_type": "code",
   "execution_count": null,
   "id": "89a0f575",
   "metadata": {},
   "outputs": [],
   "source": [
    "#Check the datatypes of the columns\n",
    "fraud_df.info()"
   ]
  },
  {
   "cell_type": "markdown",
   "id": "64e42646",
   "metadata": {},
   "source": [
    "### Q1. Numerical Attributes to Categorical Attributes"
   ]
  },
  {
   "cell_type": "markdown",
   "id": "762a77e9",
   "metadata": {},
   "source": [
    "You will notice that there are 27 columns in the dataset.\n",
    "\n",
    "Many of the categorical columns have been incorrectly stored as numerical attributes. Which of the following is the correct code to convert them to categorical attributes?\n",
    "\n",
    " **Hint** : Only `amt` and `trans_hour` have to be kept as numerical"
   ]
  },
  {
   "cell_type": "code",
   "execution_count": null,
   "id": "03c920d3",
   "metadata": {},
   "outputs": [],
   "source": [
    "## Write your code here\n"
   ]
  },
  {
   "cell_type": "code",
   "execution_count": null,
   "id": "3a9f8d71",
   "metadata": {},
   "outputs": [],
   "source": [
    "##Check the datatypes again to confirm if the conversion has happened correctly\n",
    "fraud_df.info()"
   ]
  },
  {
   "cell_type": "markdown",
   "id": "7eb31270",
   "metadata": {},
   "source": [
    "### Q2. Train-Test Split and the value of K"
   ]
  },
  {
   "cell_type": "markdown",
   "id": "e282002b",
   "metadata": {},
   "source": [
    "Peform a train-test split using test_size = 0.3 and random_state = 100.  What is the optimal value of k, the number of nearest neighbors, obtained based on accuracy using the cross-validation approach?\n",
    "\n",
    "Note: For this exercise, you don't have to scale the numerical data"
   ]
  },
  {
   "cell_type": "code",
   "execution_count": null,
   "id": "18a5a666",
   "metadata": {},
   "outputs": [],
   "source": [
    "##Separate your X and y\n"
   ]
  },
  {
   "cell_type": "code",
   "execution_count": null,
   "id": "aa01dd49",
   "metadata": {},
   "outputs": [],
   "source": [
    "#Perform the train test split\n",
    "X_train, X_val, y_train, y_val = ##Write your code here"
   ]
  },
  {
   "cell_type": "code",
   "execution_count": null,
   "id": "fa496f55",
   "metadata": {},
   "outputs": [],
   "source": [
    "##Scale the numerical data\n",
    "scaler = StandardScaler()\n",
    "X_train[['amt','trans_hour']]= scaler.fit_transform(X_train[['amt','trans_hour']])\n",
    "X_val[['amt','trans_hour']]= scaler.transform(X_val[['amt','trans_hour']])"
   ]
  },
  {
   "cell_type": "code",
   "execution_count": null,
   "id": "f03c68c8",
   "metadata": {
    "scrolled": true
   },
   "outputs": [],
   "source": [
    "###Identify the best value of k using the cross-validation approach\n",
    "knn_clf = KNeighborsClassifier()\n",
    "param_grid = {'n_neighbors': np.arange(1,31)} # Parameter range\n",
    "\n",
    "##Write your code here"
   ]
  },
  {
   "cell_type": "markdown",
   "id": "cba5fe63",
   "metadata": {},
   "source": [
    "### Q3. Validation Accuracy\n",
    "\n",
    "What is the accuracy obtained for the validation set using the optimal k obtained from the previous questions?"
   ]
  },
  {
   "cell_type": "code",
   "execution_count": null,
   "id": "9162eabb",
   "metadata": {},
   "outputs": [],
   "source": [
    "##Write your code for computing the validation accuracy"
   ]
  },
  {
   "cell_type": "code",
   "execution_count": null,
   "id": "b96c0f31",
   "metadata": {},
   "outputs": [],
   "source": [
    "print('Validation data Accuracy Score: %.4f' % accuracy_score(y_val, y_pred))"
   ]
  }
 ],
 "metadata": {
  "kernelspec": {
   "display_name": "Python 3 (ipykernel)",
   "language": "python",
   "name": "python3"
  },
  "language_info": {
   "codemirror_mode": {
    "name": "ipython",
    "version": 3
   },
   "file_extension": ".py",
   "mimetype": "text/x-python",
   "name": "python",
   "nbconvert_exporter": "python",
   "pygments_lexer": "ipython3",
   "version": "3.9.7"
  }
 },
 "nbformat": 4,
 "nbformat_minor": 5
}
