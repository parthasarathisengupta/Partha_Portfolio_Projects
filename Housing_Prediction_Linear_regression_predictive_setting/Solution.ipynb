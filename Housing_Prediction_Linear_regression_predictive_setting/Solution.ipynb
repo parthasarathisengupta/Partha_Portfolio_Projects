{
 "cells": [
  {
   "cell_type": "markdown",
   "metadata": {},
   "source": [
    "**------------------------------------------------------------------------------------------------------------------------**\n",
    "# Model Building\n",
    "**------------------------------------------------------------------------------------------------------------------------**"
   ]
  },
  {
   "cell_type": "code",
   "execution_count": 6,
   "metadata": {},
   "outputs": [],
   "source": [
    "import pandas as pd\n",
    "house = pd.read_csv('housing.csv')"
   ]
  },
  {
   "cell_type": "code",
   "execution_count": 7,
   "metadata": {},
   "outputs": [],
   "source": [
    "#Select the predictors and the measure\n",
    "X = house.drop([\"Id\", \"SalePrice\", \"TransformedPrice\"], axis=1).values\n",
    "y = house[\"TransformedPrice\"].values"
   ]
  },
  {
   "cell_type": "code",
   "execution_count": 8,
   "metadata": {},
   "outputs": [],
   "source": [
    "# split into train and test\n",
    "from sklearn.model_selection import train_test_split\n",
    "from sklearn.preprocessing import StandardScaler\n",
    "scaler = StandardScaler()\n",
    "X_scaled = scaler.fit_transform(X)\n",
    "\n",
    "X_train, X_test, y_train, y_test = train_test_split(X_scaled, y, test_size=0.3, random_state = 1)"
   ]
  },
  {
   "cell_type": "code",
   "execution_count": 9,
   "metadata": {},
   "outputs": [],
   "source": [
    "# list of alphas to run the \"RidgeCV\" and \"LassoCV\" models on\n",
    "alphas= [0.0001, 0.001, 0.01, 0.1, 0.2, 0.5, 1.0, 2.0, 5.0, 10.0, 20, 50, 100, 1000 ]"
   ]
  },
  {
   "cell_type": "code",
   "execution_count": 10,
   "metadata": {},
   "outputs": [],
   "source": [
    "# Importing the relevant libraries\n",
    "from sklearn import linear_model\n",
    "from sklearn.linear_model import LinearRegression\n",
    "from sklearn.linear_model import Ridge, RidgeCV\n",
    "from sklearn.linear_model import Lasso, LassoCV\n",
    "from sklearn.model_selection import GridSearchCV"
   ]
  },
  {
   "cell_type": "markdown",
   "metadata": {},
   "source": [
    "---\n",
    "## Linear Model\n",
    "---"
   ]
  },
  {
   "cell_type": "code",
   "execution_count": 11,
   "metadata": {},
   "outputs": [],
   "source": [
    "#First build a linear model\n",
    "from sklearn.metrics import mean_squared_error\n",
    "import numpy as np\n",
    "def rmse(y_train, y_pred):\n",
    "    return np.sqrt(mean_squared_error(y_train, y_pred))"
   ]
  },
  {
   "cell_type": "code",
   "execution_count": 12,
   "metadata": {},
   "outputs": [
    {
     "data": {
      "text/plain": [
       "LinearRegression()"
      ]
     },
     "execution_count": 12,
     "metadata": {},
     "output_type": "execute_result"
    }
   ],
   "source": [
    "lr = LinearRegression()\n",
    "lr.fit(X_train,y_train)"
   ]
  },
  {
   "cell_type": "code",
   "execution_count": 13,
   "metadata": {},
   "outputs": [
    {
     "name": "stdout",
     "output_type": "stream",
     "text": [
      "RMSE on train: 0.1199\n",
      "RMSE on test: 0.1839\n"
     ]
    }
   ],
   "source": [
    "print(\"RMSE on train:\",round(rmse(y_train,lr.predict(X_train)),4))\n",
    "print(\"RMSE on test:\",round(rmse(y_test,lr.predict(X_test)),4))"
   ]
  },
  {
   "cell_type": "markdown",
   "metadata": {},
   "source": [
    "---\n",
    "## Lasso\n",
    "---\n",
    "1. Run Lasso with alpha = 1"
   ]
  },
  {
   "cell_type": "code",
   "execution_count": 14,
   "metadata": {},
   "outputs": [
    {
     "data": {
      "text/plain": [
       "Lasso(alpha=1)"
      ]
     },
     "execution_count": 14,
     "metadata": {},
     "output_type": "execute_result"
    }
   ],
   "source": [
    "# Applying Lasso\n",
    "lasso = Lasso(alpha=1)           \n",
    "\n",
    "lasso.fit(X_train, y_train) "
   ]
  },
  {
   "cell_type": "code",
   "execution_count": 15,
   "metadata": {},
   "outputs": [
    {
     "name": "stdout",
     "output_type": "stream",
     "text": [
      "RMSE on train: 0.4\n",
      "RMSE on test: 0.399\n"
     ]
    }
   ],
   "source": [
    "print(\"RMSE on train:\",round(rmse(y_train,lasso.predict(X_train)),3))\n",
    "print(\"RMSE on test:\",round(rmse(y_test,lasso.predict(X_test)),3))"
   ]
  },
  {
   "cell_type": "markdown",
   "metadata": {},
   "source": [
    "### LassoCV \n",
    "2. Run LassoCV and find best alpha value (from the list of alphas given earlier)\n",
    "3. In the best model, find % of features that are eliminated\n",
    "4. RMSE for the best Lasso model on the test set"
   ]
  },
  {
   "cell_type": "code",
   "execution_count": 16,
   "metadata": {},
   "outputs": [
    {
     "name": "stdout",
     "output_type": "stream",
     "text": [
      "alpha: 0.001000\n"
     ]
    }
   ],
   "source": [
    "lassocv = LassoCV(alphas=alphas,cv=5)\n",
    "lassocv.fit(X_train,y_train)\n",
    "print('alpha: %f' % lassocv.alpha_)"
   ]
  },
  {
   "cell_type": "code",
   "execution_count": 17,
   "metadata": {},
   "outputs": [
    {
     "name": "stdout",
     "output_type": "stream",
     "text": [
      "Coefficients turning zero: 15 %\n"
     ]
    }
   ],
   "source": [
    "print(\"Coefficients turning zero:\",round((lassocv.coef_==0).sum()/(lassocv.coef_==0).__len__()*100),'%')"
   ]
  },
  {
   "cell_type": "code",
   "execution_count": 18,
   "metadata": {},
   "outputs": [
    {
     "name": "stdout",
     "output_type": "stream",
     "text": [
      "RMSE on train: 0.1203\n",
      "RMSE on test: 0.1824\n"
     ]
    }
   ],
   "source": [
    "print(\"RMSE on train:\",round(rmse(y_train,lassocv.predict(X_train)),4))\n",
    "print(\"RMSE on test:\",round(rmse(y_test,lassocv.predict(X_test)),4))"
   ]
  },
  {
   "cell_type": "code",
   "execution_count": 15,
   "metadata": {
    "scrolled": true
   },
   "outputs": [
    {
     "name": "stdout",
     "output_type": "stream",
     "text": [
      "Train score: 0.909\n",
      "Test score: 0.791\n"
     ]
    }
   ],
   "source": [
    "print(\"Train score:\",round(lassocv.score(X_train,y_train),3))\n",
    "print(\"Test score:\",round(lassocv.score(X_test,y_test),3))"
   ]
  },
  {
   "cell_type": "markdown",
   "metadata": {},
   "source": [
    "---\n",
    "## Ridge\n",
    "---\n",
    "1. Run Ridge with alpha = 1"
   ]
  },
  {
   "cell_type": "code",
   "execution_count": 16,
   "metadata": {},
   "outputs": [
    {
     "data": {
      "text/plain": [
       "Ridge(alpha=1)"
      ]
     },
     "execution_count": 16,
     "metadata": {},
     "output_type": "execute_result"
    }
   ],
   "source": [
    "# Applying Ridge\n",
    "ridge = Ridge(alpha=1)           \n",
    "\n",
    "ridge.fit(X_train, y_train) "
   ]
  },
  {
   "cell_type": "code",
   "execution_count": 18,
   "metadata": {},
   "outputs": [
    {
     "name": "stdout",
     "output_type": "stream",
     "text": [
      "RMSE on train: 0.12\n",
      "RMSE on test: 0.184\n"
     ]
    }
   ],
   "source": [
    "print(\"RMSE on train:\",round(rmse(y_train,ridge.predict(X_train)),3))\n",
    "print(\"RMSE on test:\",round(rmse(y_test,ridge.predict(X_test)),3))"
   ]
  },
  {
   "cell_type": "markdown",
   "metadata": {},
   "source": [
    "### RidgeCV \n",
    "2. Run RidgeCV and find best alpha value (from the list of alphas given earlier)\n",
    "3. In the best model, find % of features that are eliminated\n",
    "4. RMSE for the best Ridge model on the test set"
   ]
  },
  {
   "cell_type": "code",
   "execution_count": 19,
   "metadata": {},
   "outputs": [
    {
     "name": "stdout",
     "output_type": "stream",
     "text": [
      "alpha: 100.000000\n"
     ]
    }
   ],
   "source": [
    "ridgecv = RidgeCV(alphas=alphas,cv=5)\n",
    "ridgecv.fit(X_train,y_train)\n",
    "print('alpha: %f' % ridgecv.alpha_)"
   ]
  },
  {
   "cell_type": "code",
   "execution_count": 20,
   "metadata": {},
   "outputs": [
    {
     "name": "stdout",
     "output_type": "stream",
     "text": [
      "Difference between coefficients(sample): 39 %\n"
     ]
    }
   ],
   "source": [
    "print(\"Difference between coefficients(sample):\",round((lr.coef_[0]-ridgecv.coef_[0])/(lr.coef_[0])*100),'%')"
   ]
  },
  {
   "cell_type": "code",
   "execution_count": 21,
   "metadata": {},
   "outputs": [
    {
     "name": "stdout",
     "output_type": "stream",
     "text": [
      "RMSE on train: 0.121\n",
      "RMSE on test: 0.1817\n"
     ]
    }
   ],
   "source": [
    "print(\"RMSE on train:\",round(rmse(y_train,ridgecv.predict(X_train)),4))\n",
    "print(\"RMSE on test:\",round(rmse(y_test,ridgecv.predict(X_test)),4))"
   ]
  },
  {
   "cell_type": "code",
   "execution_count": 22,
   "metadata": {
    "scrolled": true
   },
   "outputs": [
    {
     "name": "stdout",
     "output_type": "stream",
     "text": [
      "Train score: 0.908\n",
      "Test score: 0.793\n"
     ]
    }
   ],
   "source": [
    "print(\"Train score:\",round(ridgecv.score(X_train,y_train),3))\n",
    "print(\"Test score:\",round(ridgecv.score(X_test,y_test),3))"
   ]
  }
 ],
 "metadata": {
  "kernelspec": {
   "display_name": "Python 3",
   "language": "python",
   "name": "python3"
  },
  "language_info": {
   "codemirror_mode": {
    "name": "ipython",
    "version": 3
   },
   "file_extension": ".py",
   "mimetype": "text/x-python",
   "name": "python",
   "nbconvert_exporter": "python",
   "pygments_lexer": "ipython3",
   "version": "3.8.8"
  }
 },
 "nbformat": 4,
 "nbformat_minor": 2
}
